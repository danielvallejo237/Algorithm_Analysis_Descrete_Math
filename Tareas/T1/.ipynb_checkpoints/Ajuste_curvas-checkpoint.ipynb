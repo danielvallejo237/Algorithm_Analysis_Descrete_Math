{
 "cells": [
  {
   "cell_type": "markdown",
   "id": "c880501a-a169-4899-9519-ad1208c4fcb1",
   "metadata": {},
   "source": [
    "# Ejemplo de ajuste de curvas\n",
    "\n",
    "## Código auxiliar en la tarea 1"
   ]
  },
  {
   "cell_type": "code",
   "execution_count": 2,
   "id": "842d852b-0eef-433b-98f6-7170f5a34069",
   "metadata": {},
   "outputs": [],
   "source": [
    "from scipy.optimize import curve_fit\n",
    "import random\n",
    "import numpy as np\n",
    "import matplotlib.pyplot as plt"
   ]
  },
  {
   "cell_type": "markdown",
   "id": "edd49e67",
   "metadata": {},
   "source": [
    "Primero definimos la función que queremos ajustar a nuestros datos, en este caso suponemos que los puntos obtenidos al momento de generar nuestros datos corresponden a la función \n",
    "$$f(n)=k*n\\log(n) $$"
   ]
  },
  {
   "cell_type": "code",
   "execution_count": null,
   "id": "2d6c06f3",
   "metadata": {},
   "outputs": [],
   "source": [
    "def fnc(x,k): #Función a ajustar\n",
    "    return k*x*np.log2(x)"
   ]
  },
  {
   "cell_type": "markdown",
   "id": "ed23f70e",
   "metadata": {},
   "source": [
    "Generación de los datos de forma sintética, en el caso de la tarea $x$ va desde $10^{7}$ hasta $10^{8}$. Los $y$ son obtenidos al momento de hacer un promedio del número de comparaciones obtenidas con sus códigos"
   ]
  },
  {
   "cell_type": "code",
   "execution_count": 3,
   "id": "9cda59de-e262-44bd-8f3f-3217d40e4467",
   "metadata": {},
   "outputs": [],
   "source": [
    "x=range(1,17)\n",
    "y=[fnc(e,10) for e in x]\n",
    "ruido=np.random.normal(scale=15,loc=0,size=len(x))\n",
    "z=[a+b for (a,b) in zip(y,ruido)]"
   ]
  },
  {
   "cell_type": "markdown",
   "id": "4bd39558",
   "metadata": {},
   "source": [
    "La siguiente función, encuentra la constante $k$ de la función $f(n)$ que ajusta de mejor forma la función $f(n)$ a los datos obtenidos, en este caso $k \\approx 10$, lo cual vemos que se refleja en el resultado numérico"
   ]
  },
  {
   "cell_type": "code",
   "execution_count": 4,
   "id": "bab7d81d-f2e2-498c-8a94-f2310f2d08e4",
   "metadata": {},
   "outputs": [
    {
     "name": "stdout",
     "output_type": "stream",
     "text": [
      "Constante k encontrada 9.974077179959934\n"
     ]
    }
   ],
   "source": [
    "popt,_=curve_fit(fnc,x,z)\n",
    "print(\"Constante k encontrada {}\".format(popt[0]))\n",
    "found=[fnc(e,popt[0]) for e in x]"
   ]
  },
  {
   "cell_type": "markdown",
   "id": "2216ef15",
   "metadata": {},
   "source": [
    "La función anterior regresa dos argumentos $\\textit{popt}$, $\\textit{pcov}$, en este caso solo nos interesa $\\textit{popt}$ donde se encuentra la constante $k$"
   ]
  },
  {
   "cell_type": "code",
   "execution_count": 5,
   "id": "2ac2b89d-75da-45e5-8fec-f86ac9a5b090",
   "metadata": {},
   "outputs": [
    {
     "data": {
      "text/plain": [
       "[<matplotlib.lines.Line2D at 0x672d4510>]"
      ]
     },
     "execution_count": 5,
     "metadata": {},
     "output_type": "execute_result"
    },
    {
     "data": {
      "image/png": "[encoded data removed]",
      "text/plain": [
       "<Figure size 432x288 with 1 Axes>"
      ]
     },
     "metadata": {
      "needs_background": "light"
     },
     "output_type": "display_data"
    }
   ],
   "source": [
    "plt.plot(x,z,'o')\n",
    "plt.plot(x,found)\n",
    "plt.title(\"Ajuste de curvas\",fontsize=16)"
   ]
  },
  {
   "cell_type": "markdown",
   "id": "d40faa26",
   "metadata": {},
   "source": [
    "Podemos ver que la curva encontrada ajusta correctamente a los datos por lo que podemos demostrar que dichos puntos se comportan de acuerdo a la función $f(n)=n \\log(n)$"
   ]
  }
 ],
 "metadata": {
  "kernelspec": {
   "display_name": "Python 3",
   "language": "python",
   "name": "python3"
  },
  "language_info": {
   "codemirror_mode": {
    "name": "ipython",
    "version": 3
   },
   "file_extension": ".py",
   "mimetype": "text/x-python",
   "name": "python",
   "nbconvert_exporter": "python",
   "pygments_lexer": "ipython3",
   "version": "3.7.3"
  }
 },
 "nbformat": 4,
 "nbformat_minor": 5
}
